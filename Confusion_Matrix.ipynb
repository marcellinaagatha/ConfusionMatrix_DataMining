{
  "nbformat": 4,
  "nbformat_minor": 0,
  "metadata": {
    "colab": {
      "provenance": []
    },
    "kernelspec": {
      "name": "python3",
      "display_name": "Python 3"
    },
    "language_info": {
      "name": "python"
    }
  },
  "cells": [
    {
      "cell_type": "code",
      "execution_count": 1,
      "metadata": {
        "id": "VWVS506QJ6rE"
      },
      "outputs": [],
      "source": [
        "import numpy as np\n",
        "import matplotlib.pyplot as plt\n",
        "\n",
        "from sklearn.metrics import confusion_matrix, classification_report"
      ]
    },
    {
      "cell_type": "code",
      "source": [
        "data_asli = [2,3,0,9,6,7,8,1,1,3,4,5,7,8,4,3,2,6,9]\n",
        "data_prediksi = [2,3,1,9,5,7,8,2,1,3,4,5,7,9,4,3,1,6,8]"
      ],
      "metadata": {
        "id": "jzUTcFX7P2rP"
      },
      "execution_count": 2,
      "outputs": []
    },
    {
      "cell_type": "code",
      "source": [
        "confusion_mtrx = confusion_matrix(data_asli, data_prediksi)"
      ],
      "metadata": {
        "id": "S4xoj2upR1AN"
      },
      "execution_count": 3,
      "outputs": []
    },
    {
      "cell_type": "code",
      "source": [
        "plt.imshow(confusion_mtrx, cmap=plt.cm.gray)\n",
        "plt.title(\"confusion matrix\")\n",
        "plt.colorbar()\n",
        "plt.xlabel('data prediksi')\n",
        "plt.ylabel('data asli')\n",
        "plt.show()"
      ],
      "metadata": {
        "colab": {
          "base_uri": "https://localhost:8080/",
          "height": 472
        },
        "id": "DyvIj3qxS7jr",
        "outputId": "8646fc9a-35e8-4a7d-c7ab-6cf712944bcc"
      },
      "execution_count": 4,
      "outputs": [
        {
          "output_type": "display_data",
          "data": {
            "text/plain": [
              "<Figure size 640x480 with 2 Axes>"
            ],
            "image/png": "[encoded data removed]"
          },
          "metadata": {}
        }
      ]
    },
    {
      "cell_type": "code",
      "source": [
        "target = ['0','1','2','3','4','5','6','7','8','9']\n",
        "print('\\n', classification_report(data_asli, data_prediksi, target_names=target))"
      ],
      "metadata": {
        "colab": {
          "base_uri": "https://localhost:8080/"
        },
        "id": "zogGQq1XTZjg",
        "outputId": "fc35c245-c4fd-4489-d022-a3766a4aa57f"
      },
      "execution_count": 5,
      "outputs": [
        {
          "output_type": "stream",
          "name": "stdout",
          "text": [
            "\n",
            "               precision    recall  f1-score   support\n",
            "\n",
            "           0       0.00      0.00      0.00         1\n",
            "           1       0.33      0.50      0.40         2\n",
            "           2       0.50      0.50      0.50         2\n",
            "           3       1.00      1.00      1.00         3\n",
            "           4       1.00      1.00      1.00         2\n",
            "           5       0.50      1.00      0.67         1\n",
            "           6       1.00      0.50      0.67         2\n",
            "           7       1.00      1.00      1.00         2\n",
            "           8       0.50      0.50      0.50         2\n",
            "           9       0.50      0.50      0.50         2\n",
            "\n",
            "    accuracy                           0.68        19\n",
            "   macro avg       0.63      0.65      0.62        19\n",
            "weighted avg       0.69      0.68      0.67        19\n",
            "\n"
          ]
        },
        {
          "output_type": "stream",
          "name": "stderr",
          "text": [
            "/usr/local/lib/python3.10/dist-packages/sklearn/metrics/_classification.py:1344: UndefinedMetricWarning: Precision and F-score are ill-defined and being set to 0.0 in labels with no predicted samples. Use `zero_division` parameter to control this behavior.\n",
            "  _warn_prf(average, modifier, msg_start, len(result))\n",
            "/usr/local/lib/python3.10/dist-packages/sklearn/metrics/_classification.py:1344: UndefinedMetricWarning: Precision and F-score are ill-defined and being set to 0.0 in labels with no predicted samples. Use `zero_division` parameter to control this behavior.\n",
            "  _warn_prf(average, modifier, msg_start, len(result))\n",
            "/usr/local/lib/python3.10/dist-packages/sklearn/metrics/_classification.py:1344: UndefinedMetricWarning: Precision and F-score are ill-defined and being set to 0.0 in labels with no predicted samples. Use `zero_division` parameter to control this behavior.\n",
            "  _warn_prf(average, modifier, msg_start, len(result))\n"
          ]
        }
      ]
    }
  ]
}